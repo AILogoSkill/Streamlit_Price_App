{
  "metadata": {
    "kernelspec": {
      "language": "python",
      "display_name": "Python 3",
      "name": "python3"
    },
    "language_info": {
      "pygments_lexer": "ipython3",
      "nbconvert_exporter": "python",
      "version": "3.6.4",
      "file_extension": ".py",
      "codemirror_mode": {
        "name": "ipython",
        "version": 3
      },
      "name": "python",
      "mimetype": "text/x-python"
    },
    "colab": {
      "provenance": []
    }
  },
  "nbformat_minor": 0,
  "nbformat": 4,
  "cells": [
    {
      "cell_type": "markdown",
      "source": [
        "# Apartment Pricing Model\n",
        "Based on the [data set](https://www.kaggle.com/mrdaniilak/russia-real-estate-20182021) containing **listings of apartments** offered for sale in various regions of Russia I develop a pricing models that could be used to evaluate apartments located in the **city **. Similar approach could be used to create regression models for other regions.\n",
        "\n",
        "**Models used:** XGBoost, LGBM, CatBoost\n",
        "\n",
        "**Techniques applied:** data cleaning, filtering outliers, feature engineering"
      ],
      "metadata": {
        "id": "_m1urhJO0JNS"
      }
    },
    {
      "cell_type": "code",
      "source": [
        "import gc\n",
        "import os\n",
        "import random\n",
        "import pandas as pd\n",
        "import numpy as np\n",
        "import matplotlib.pyplot as plt\n",
        "import seaborn as sns\n",
        "\n",
        "from sklearn.model_selection import KFold\n",
        "from xgboost import XGBRegressor\n",
        "from lightgbm import LGBMRegressor\n",
        "from catboost import CatBoostRegressor\n",
        "\n",
        "import warnings\n",
        "warnings.filterwarnings('ignore')"
      ],
      "metadata": {
        "execution": {
          "iopub.status.busy": "2021-11-29T13:27:18.774474Z",
          "iopub.execute_input": "2021-11-29T13:27:18.774851Z",
          "iopub.status.idle": "2021-11-29T13:27:21.241874Z",
          "shell.execute_reply.started": "2021-11-29T13:27:18.774740Z",
          "shell.execute_reply": "2021-11-29T13:27:21.240860Z"
        },
        "trusted": true,
        "id": "-T3virlF0JNl"
      },
      "execution_count": null,
      "outputs": []
    },
    {
      "cell_type": "code",
      "source": [
        "PATH = '../input/russia-real-estate-20182021/all_v2.csv'\n",
        "\n",
        "REGION_ID = 2661  # City of Saint Petersburg\n",
        "\n",
        "MIN_AREA = 20  # Outlier range for floor area\n",
        "MAX_AREA = 200\n",
        "\n",
        "MIN_KITCHEN = 6  # Outlier range for kitchen area\n",
        "MAX_KITCHEN = 30\n",
        "\n",
        "MIN_PRICE = 1_500_000  # Outlier range for price\n",
        "MAX_PRICE = 50_000_000\n",
        "\n",
        "SEED = 15\n",
        "N_FOLDS = 5"
      ],
      "metadata": {
        "execution": {
          "iopub.status.busy": "2021-11-29T13:27:21.243723Z",
          "iopub.execute_input": "2021-11-29T13:27:21.244094Z",
          "iopub.status.idle": "2021-11-29T13:27:21.250961Z",
          "shell.execute_reply.started": "2021-11-29T13:27:21.244046Z",
          "shell.execute_reply": "2021-11-29T13:27:21.249643Z"
        },
        "trusted": true,
        "id": "6ZXKY5Ii0JNx"
      },
      "execution_count": null,
      "outputs": []
    },
    {
      "cell_type": "markdown",
      "source": [
        "## Functions"
      ],
      "metadata": {
        "id": "gyoyTge20JN2"
      }
    },
    {
      "cell_type": "code",
      "source": [
        "def set_display():\n",
        "    \"\"\"Function sets display options for charts and pd.DataFrames.\n",
        "    \"\"\"\n",
        "    # Plots display settings\n",
        "    plt.style.use('fivethirtyeight')\n",
        "    plt.rcParams['figure.figsize'] = 12, 8\n",
        "    plt.rcParams.update({'font.size': 14})\n",
        "    # DataFrame display settings\n",
        "    pd.set_option('display.max_columns', None)\n",
        "    pd.set_option('display.max_rows', None)\n",
        "    pd.options.display.float_format = '{:.4f}'.format\n",
        "\n",
        "\n",
        "def clean_data(df: pd.DataFrame) -> pd.DataFrame:\n",
        "    \"\"\"Function removes excess columns and enforces\n",
        "    correct data types.\n",
        "    :param df: Original DataFrame\n",
        "    :return: Updated DataFrame\n",
        "    \"\"\"\n",
        "    df.drop('time', axis=1, inplace=True)\n",
        "    df['date'] = pd.to_datetime(df['date'])\n",
        "    # Column actually contains -1 and -2 values presumably for studio apartments.\n",
        "    df['rooms'] = df['rooms'].apply(lambda x: 0 if x < 0 else x)\n",
        "    df['price'] = df['price'].abs()  # Fix negative values\n",
        "    # Drop price and area outliers.\n",
        "    df = df[(df['area'] <= MAX_AREA) & (df['area'] >= MIN_AREA)]\n",
        "    df = df[(df['price'] <= MAX_PRICE) & (df['price'] >= MIN_PRICE)]\n",
        "    # Fix kitchen area outliers.\n",
        "    # At first, replace all outliers with 0.\n",
        "    df.loc[(df['kitchen_area'] >= MAX_KITCHEN) | (df['area'] <= MIN_AREA), 'kitchen_area'] = 0\n",
        "    # Then calculate kitchen area based on the floor area, except for studios.\n",
        "    erea_mean, kitchen_mean = df[['area', 'kitchen_area']].quantile(0.5)\n",
        "    kitchen_share = kitchen_mean / erea_mean\n",
        "    df.loc[(df['kitchen_area'] == 0) & (df['rooms'] != 0), 'kitchen_area'] = \\\n",
        "        df.loc[(df['kitchen_area'] == 0) & (df['rooms'] != 0), 'area'] * kitchen_share\n",
        "\n",
        "    return df\n",
        "\n",
        "\n",
        "def select_region(df: pd.DataFrame) -> pd.DataFrame:\n",
        "    \"\"\"Function selects the listings belonging to a specified region.\n",
        "    :param df: Original DataFrame with all listings\n",
        "    :return: Filtered DataFrame\n",
        "    \"\"\"\n",
        "    df = df[df['region'] == REGION_ID]\n",
        "    df.drop('region', axis=1, inplace=True)\n",
        "    print(f'Selected {len(df)} samples in region {REGION_ID}.')\n",
        "    return df\n",
        "\n",
        "\n",
        "def add_features(df: pd.DataFrame) -> pd.DataFrame:\n",
        "    # Replace \"date\" with numeric features for year and month.\n",
        "    df['year'] = df['date'].dt.year\n",
        "    df['month'] = df['date'].dt.month\n",
        "    df.drop('date', axis=1, inplace=True)\n",
        "    # Apartment floor in relation to total number of floors.\n",
        "    df['level_to_levels'] = df['level'] / df['levels']\n",
        "    # Average size of room in the apartment.\n",
        "    df['area_to_rooms'] = (df['area'] / df['rooms']).abs()\n",
        "    # Fix division by zero.\n",
        "    df.loc[df['area_to_rooms'] == np.inf, 'area_to_rooms'] = \\\n",
        "        df.loc[df['area_to_rooms'] == np.inf, 'area']\n",
        "    return df\n",
        "\n",
        "\n",
        "def set_seed(seed=42):\n",
        "    \"\"\"Utility function to use for reproducibility.\n",
        "    :param seed: Random seed\n",
        "    :return: None\n",
        "    \"\"\"\n",
        "    np.random.seed(seed)\n",
        "    random.seed(seed)\n",
        "    # tf.random.set_seed(seed)\n",
        "    os.environ['PYTHONHASHSEED'] = str(seed)\n",
        "    os.environ['TF_DETERMINISTIC_OPS'] = '1'"
      ],
      "metadata": {
        "execution": {
          "iopub.status.busy": "2021-11-29T13:27:21.252208Z",
          "iopub.execute_input": "2021-11-29T13:27:21.252635Z",
          "iopub.status.idle": "2021-11-29T13:27:21.272498Z",
          "shell.execute_reply.started": "2021-11-29T13:27:21.252603Z",
          "shell.execute_reply": "2021-11-29T13:27:21.271531Z"
        },
        "trusted": true,
        "id": "4H7nZi3k0JN3"
      },
      "execution_count": null,
      "outputs": []
    },
    {
      "cell_type": "markdown",
      "source": [
        "## Data Analysis"
      ],
      "metadata": {
        "id": "1zcem76Y0JN6"
      }
    },
    {
      "cell_type": "code",
      "source": [
        "set_display()"
      ],
      "metadata": {
        "execution": {
          "iopub.status.busy": "2021-11-29T13:27:21.274223Z",
          "iopub.execute_input": "2021-11-29T13:27:21.274535Z",
          "iopub.status.idle": "2021-11-29T13:27:21.293605Z",
          "shell.execute_reply.started": "2021-11-29T13:27:21.274506Z",
          "shell.execute_reply": "2021-11-29T13:27:21.292862Z"
        },
        "trusted": true,
        "id": "r6qE02lO0JN-"
      },
      "execution_count": null,
      "outputs": []
    },
    {
      "cell_type": "code",
      "source": [
        "data = pd.read_csv(PATH)\n",
        "print(f'Data shape: {data.shape}')\n",
        "data.head()"
      ],
      "metadata": {
        "execution": {
          "iopub.status.busy": "2021-11-29T13:27:21.294746Z",
          "iopub.execute_input": "2021-11-29T13:27:21.295333Z",
          "iopub.status.idle": "2021-11-29T13:27:33.994789Z",
          "shell.execute_reply.started": "2021-11-29T13:27:21.295289Z",
          "shell.execute_reply": "2021-11-29T13:27:33.993842Z"
        },
        "trusted": true,
        "id": "_0mKbMXJ0JOC"
      },
      "execution_count": null,
      "outputs": []
    },
    {
      "cell_type": "code",
      "source": [
        "data.info()"
      ],
      "metadata": {
        "execution": {
          "iopub.status.busy": "2021-11-29T13:27:33.996539Z",
          "iopub.execute_input": "2021-11-29T13:27:33.997045Z",
          "iopub.status.idle": "2021-11-29T13:27:34.020056Z",
          "shell.execute_reply.started": "2021-11-29T13:27:33.996947Z",
          "shell.execute_reply": "2021-11-29T13:27:34.018285Z"
        },
        "trusted": true,
        "id": "EV0hxVSK0JOE"
      },
      "execution_count": null,
      "outputs": []
    },
    {
      "cell_type": "code",
      "source": [
        "data.describe()"
      ],
      "metadata": {
        "execution": {
          "iopub.status.busy": "2021-11-29T13:27:34.021257Z",
          "iopub.execute_input": "2021-11-29T13:27:34.022002Z",
          "iopub.status.idle": "2021-11-29T13:27:36.165638Z",
          "shell.execute_reply.started": "2021-11-29T13:27:34.021967Z",
          "shell.execute_reply": "2021-11-29T13:27:36.164785Z"
        },
        "trusted": true,
        "id": "DesZwFIa0JOH"
      },
      "execution_count": null,
      "outputs": []
    },
    {
      "cell_type": "markdown",
      "source": [
        "Data set contains samples with typos and errors including negative prices, too large or unrealistically small floor area, etc. Let's clean the data before proceeding with the analysis. We limit the floor area to a range betwee 20 sq.m and 200 sq.m and price to a range between 1.5 mln to 50 mln rubles, which covers most of the housing market."
      ],
      "metadata": {
        "id": "4f1XhvnQ0JOI"
      }
    },
    {
      "cell_type": "code",
      "source": [
        "data = data.pipe(clean_data)\n",
        "data.head()"
      ],
      "metadata": {
        "execution": {
          "iopub.status.busy": "2021-11-29T13:27:36.167824Z",
          "iopub.execute_input": "2021-11-29T13:27:36.168042Z",
          "iopub.status.idle": "2021-11-29T13:27:41.602009Z",
          "shell.execute_reply.started": "2021-11-29T13:27:36.168014Z",
          "shell.execute_reply": "2021-11-29T13:27:41.600998Z"
        },
        "trusted": true,
        "id": "jkBIiM340JOJ"
      },
      "execution_count": null,
      "outputs": []
    },
    {
      "cell_type": "markdown",
      "source": [
        "### Features and data types\n",
        "- Categorical features:\n",
        "  - Region (numerically encoded geographical area, identifies either a large city like Moscow or Saint Petersburg or a federal region / district)\n",
        "  - Building type (numerically encoded type of the building where the apartment is located)\n",
        "  - Object type (apartment type, where 1 stands for secondary real estate market, 11 - new building)\n",
        "- Numerical features:\n",
        "  - Area (total floor area of the apartment in sq. meters)\n",
        "  - Kitchen area (kitchen area in sq. meters)\n",
        "  - Rooms (number of rooms in the apartment, -1 stands for studios with open-space layout)\n",
        "  - Level (floor the apartment is located on, could be treated as a categorical feature as well)\n",
        "  - Levels (total number of storeys in the building)\n",
        "- Geospatial features:\n",
        "  - Latitude - geographical coordinate of the preperty\n",
        "  - Longitude - geographical coordinate of the preperty\n",
        "- Temporal features:\n",
        "  - Date (date the listing was published)\n",
        "  - Time (exact time the listing was published)"
      ],
      "metadata": {
        "id": "DkcAELOo0JOK"
      }
    },
    {
      "cell_type": "code",
      "source": [
        "building_types = data['building_type'].value_counts()\n",
        "plt.pie(building_types.values, labels=building_types.index, autopct='%1.1f%%')\n",
        "plt.title('Building Types')\n",
        "plt.show()"
      ],
      "metadata": {
        "execution": {
          "iopub.status.busy": "2021-11-29T13:28:15.246581Z",
          "iopub.execute_input": "2021-11-29T13:28:15.246999Z",
          "iopub.status.idle": "2021-11-29T13:28:15.447467Z",
          "shell.execute_reply.started": "2021-11-29T13:28:15.246968Z",
          "shell.execute_reply": "2021-11-29T13:28:15.446481Z"
        },
        "trusted": true,
        "id": "XNRyZAyg0JOL"
      },
      "execution_count": null,
      "outputs": []
    },
    {
      "cell_type": "code",
      "source": [
        "apartment_types = data['object_type'].value_counts()\n",
        "plt.pie(apartment_types.values, labels=apartment_types.index, autopct='%1.1f%%')\n",
        "plt.title('Apartment Types')\n",
        "plt.show()"
      ],
      "metadata": {
        "execution": {
          "iopub.status.busy": "2021-11-29T13:28:15.712397Z",
          "iopub.execute_input": "2021-11-29T13:28:15.713124Z",
          "iopub.status.idle": "2021-11-29T13:28:15.844315Z",
          "shell.execute_reply.started": "2021-11-29T13:28:15.713072Z",
          "shell.execute_reply": "2021-11-29T13:28:15.843363Z"
        },
        "trusted": true,
        "id": "tXj534xJ0JOM"
      },
      "execution_count": null,
      "outputs": []
    },
    {
      "cell_type": "code",
      "source": [
        "rooms = data['rooms'].value_counts()\n",
        "plt.pie(rooms.values, labels=rooms.index, autopct='%1.1f%%')\n",
        "plt.title('Number of Rooms')\n",
        "plt.show()"
      ],
      "metadata": {
        "execution": {
          "iopub.status.busy": "2021-11-29T13:28:16.191956Z",
          "iopub.execute_input": "2021-11-29T13:28:16.192261Z",
          "iopub.status.idle": "2021-11-29T13:28:16.384145Z",
          "shell.execute_reply.started": "2021-11-29T13:28:16.192230Z",
          "shell.execute_reply": "2021-11-29T13:28:16.383078Z"
        },
        "trusted": true,
        "id": "B-EZse4A0JOP"
      },
      "execution_count": null,
      "outputs": []
    },
    {
      "cell_type": "code",
      "source": [
        "pos = 0\n",
        "for pos, feature in enumerate(['area', 'kitchen_area']):\n",
        "    sp = plt.subplot(1, 2, pos + 1)\n",
        "    plt.hist(data[feature], bins=20)\n",
        "    plt.title(f'Distribution: {feature}')\n",
        "plt.show()"
      ],
      "metadata": {
        "execution": {
          "iopub.status.busy": "2021-11-29T13:28:16.732960Z",
          "iopub.execute_input": "2021-11-29T13:28:16.733263Z",
          "iopub.status.idle": "2021-11-29T13:28:17.239417Z",
          "shell.execute_reply.started": "2021-11-29T13:28:16.733227Z",
          "shell.execute_reply": "2021-11-29T13:28:17.238520Z"
        },
        "trusted": true,
        "id": "DlThrmBf0JOQ"
      },
      "execution_count": null,
      "outputs": []
    },
    {
      "cell_type": "code",
      "source": [
        "pos = 0\n",
        "for pos, feature in enumerate(['level', 'levels']):\n",
        "    levels = data[feature].value_counts()\n",
        "    sp = plt.subplot(1, 2, pos + 1)\n",
        "    plt.bar(levels.index, levels.values)\n",
        "    plt.title(feature)\n",
        "plt.show()"
      ],
      "metadata": {
        "execution": {
          "iopub.status.busy": "2021-11-29T13:28:17.971818Z",
          "iopub.execute_input": "2021-11-29T13:28:17.972838Z",
          "iopub.status.idle": "2021-11-29T13:28:18.452437Z",
          "shell.execute_reply.started": "2021-11-29T13:28:17.972793Z",
          "shell.execute_reply": "2021-11-29T13:28:18.451562Z"
        },
        "trusted": true,
        "id": "vAMrm7xb0JOR"
      },
      "execution_count": null,
      "outputs": []
    },
    {
      "cell_type": "code",
      "source": [
        "# Regions are encoded with numeric IDs.\n",
        "regions = data['region'].value_counts()\n",
        "print(regions.head(10))\n",
        "\n",
        "plt.hist(regions.values, bins=5)\n",
        "plt.title('Listings by Region')\n",
        "plt.show()"
      ],
      "metadata": {
        "execution": {
          "iopub.status.busy": "2021-11-29T13:28:20.233728Z",
          "iopub.execute_input": "2021-11-29T13:28:20.234538Z",
          "iopub.status.idle": "2021-11-29T13:28:20.500814Z",
          "shell.execute_reply.started": "2021-11-29T13:28:20.234492Z",
          "shell.execute_reply": "2021-11-29T13:28:20.499897Z"
        },
        "trusted": true,
        "id": "Cq2e0_3_0JOS"
      },
      "execution_count": null,
      "outputs": []
    },
    {
      "cell_type": "markdown",
      "source": [
        "Listings are unequally distributed between the regions with most of the offerings concentrated in the largest and most developed cities and their surrounding areas."
      ],
      "metadata": {
        "id": "C4KX5DqM0JOS"
      }
    },
    {
      "cell_type": "code",
      "source": [
        "# Find out what regions are represented in the data set.\n",
        "for region in data['region'].unique():\n",
        "    subset = data[data['region'] == region]\n",
        "    lat, lon = np.round(subset[['geo_lat', 'geo_lon']].mean(), 2)\n",
        "    print(f'Region {region}: latitude = {lat}, longitude = {lon}')"
      ],
      "metadata": {
        "execution": {
          "iopub.status.busy": "2021-11-29T13:28:39.451735Z",
          "iopub.execute_input": "2021-11-29T13:28:39.452063Z",
          "iopub.status.idle": "2021-11-29T13:28:40.827612Z",
          "shell.execute_reply.started": "2021-11-29T13:28:39.452026Z",
          "shell.execute_reply": "2021-11-29T13:28:40.826867Z"
        },
        "trusted": true,
        "id": "6Bbcm7Ng0JOT"
      },
      "execution_count": null,
      "outputs": []
    },
    {
      "cell_type": "code",
      "source": [
        "avg_prices = data.groupby(by='region')['price'].mean()\n",
        "plt.hist(avg_prices.values, bins=10)\n",
        "plt.xlabel('Rubles')\n",
        "plt.ylabel('Frequency')\n",
        "plt.title('Average Price by Region')\n",
        "plt.show()"
      ],
      "metadata": {
        "execution": {
          "iopub.status.busy": "2021-11-29T13:28:40.846050Z",
          "iopub.execute_input": "2021-11-29T13:28:40.846318Z",
          "iopub.status.idle": "2021-11-29T13:28:41.178320Z",
          "shell.execute_reply.started": "2021-11-29T13:28:40.846289Z",
          "shell.execute_reply": "2021-11-29T13:28:41.177463Z"
        },
        "trusted": true,
        "id": "3RKztgbe0JOU"
      },
      "execution_count": null,
      "outputs": []
    },
    {
      "cell_type": "markdown",
      "source": [
        "Knowing the basics of real estate pricing, it's unreasonable to develop a single model for all the regions. Pricing factors could have different impact on the actual price depending on the region, local market conditions, prevailing types of buildings in the area, etc.\n",
        "\n",
        "A number of important features are missing in this data set, which would lead to larger errors regardless of applied regression algorithms and quality of the model:\n",
        "- Condition: similar apartments would be priced differently, if one of them is being sold fully furnished in excellent condition and the other is being sold without finishing.\n",
        "- Ceiling height affects the price.\n",
        "- Balconies and terraces increase the price compared to similar apartments without such menities.\n",
        "- Additional unique properties usually mentioned in the description of the apartment, like chimneys or underground parking spaces, affect the price.\n",
        "\n",
        "Taking that in mind we will try to develop a pricing model for apartments located in Saint Petersburg."
      ],
      "metadata": {
        "id": "UiPBt6Fu0JOX"
      }
    },
    {
      "cell_type": "markdown",
      "source": [
        "## Feature Engineering"
      ],
      "metadata": {
        "id": "JnokWYb10JOX"
      }
    },
    {
      "cell_type": "code",
      "source": [
        "data = data.pipe(select_region)\n",
        "data = data.pipe(add_features)\n",
        "data.head()"
      ],
      "metadata": {
        "execution": {
          "iopub.status.busy": "2021-11-29T13:28:49.057209Z",
          "iopub.execute_input": "2021-11-29T13:28:49.058628Z",
          "iopub.status.idle": "2021-11-29T13:28:49.306306Z",
          "shell.execute_reply.started": "2021-11-29T13:28:49.058571Z",
          "shell.execute_reply": "2021-11-29T13:28:49.305393Z"
        },
        "trusted": true,
        "id": "54Lp52SJ0JOY"
      },
      "execution_count": null,
      "outputs": []
    },
    {
      "cell_type": "code",
      "source": [
        "gc.collect()"
      ],
      "metadata": {
        "execution": {
          "iopub.status.busy": "2021-11-29T13:28:55.622464Z",
          "iopub.execute_input": "2021-11-29T13:28:55.623017Z",
          "iopub.status.idle": "2021-11-29T13:28:55.776619Z",
          "shell.execute_reply.started": "2021-11-29T13:28:55.622982Z",
          "shell.execute_reply": "2021-11-29T13:28:55.775698Z"
        },
        "trusted": true,
        "id": "xMkc6-sk0JOZ"
      },
      "execution_count": null,
      "outputs": []
    },
    {
      "cell_type": "code",
      "source": [
        "data.describe()"
      ],
      "metadata": {
        "execution": {
          "iopub.status.busy": "2021-11-29T13:28:56.993508Z",
          "iopub.execute_input": "2021-11-29T13:28:56.993855Z",
          "iopub.status.idle": "2021-11-29T13:28:57.252785Z",
          "shell.execute_reply.started": "2021-11-29T13:28:56.993819Z",
          "shell.execute_reply": "2021-11-29T13:28:57.251840Z"
        },
        "trusted": true,
        "id": "RQP0ImMu0JOa"
      },
      "execution_count": null,
      "outputs": []
    },
    {
      "cell_type": "code",
      "source": [
        "correlation = data.corr()\n",
        "ax = sns.heatmap(correlation, center=0, cmap='RdBu_r')\n",
        "l, r = ax.get_ylim()\n",
        "ax.set_ylim(l + 0.5, r - 0.5)\n",
        "plt.yticks(rotation=0)\n",
        "plt.title('Correlation Matrix')\n",
        "plt.show()"
      ],
      "metadata": {
        "execution": {
          "iopub.status.busy": "2021-11-29T13:29:03.079192Z",
          "iopub.execute_input": "2021-11-29T13:29:03.079501Z",
          "iopub.status.idle": "2021-11-29T13:29:03.818809Z",
          "shell.execute_reply.started": "2021-11-29T13:29:03.079456Z",
          "shell.execute_reply": "2021-11-29T13:29:03.817812Z"
        },
        "trusted": true,
        "id": "Gg-1_QKf0JOc"
      },
      "execution_count": null,
      "outputs": []
    },
    {
      "cell_type": "code",
      "source": [
        "y = data.pop('price')"
      ],
      "metadata": {
        "execution": {
          "iopub.status.busy": "2021-11-29T13:29:16.211217Z",
          "iopub.execute_input": "2021-11-29T13:29:16.211498Z",
          "iopub.status.idle": "2021-11-29T13:29:16.217007Z",
          "shell.execute_reply.started": "2021-11-29T13:29:16.211468Z",
          "shell.execute_reply": "2021-11-29T13:29:16.215978Z"
        },
        "trusted": true,
        "id": "kpdMQT0K0JOc"
      },
      "execution_count": null,
      "outputs": []
    },
    {
      "cell_type": "markdown",
      "source": [
        "## Models Cross-Validation"
      ],
      "metadata": {
        "id": "kGhqNUwJ0JOd"
      }
    },
    {
      "cell_type": "code",
      "source": [
        "set_seed(SEED)\n",
        "\n",
        "kf = KFold(N_FOLDS, shuffle=True, random_state=SEED)"
      ],
      "metadata": {
        "execution": {
          "iopub.status.busy": "2021-11-29T13:29:29.016421Z",
          "iopub.execute_input": "2021-11-29T13:29:29.017053Z",
          "iopub.status.idle": "2021-11-29T13:29:29.022277Z",
          "shell.execute_reply.started": "2021-11-29T13:29:29.016988Z",
          "shell.execute_reply": "2021-11-29T13:29:29.021152Z"
        },
        "trusted": true,
        "id": "h8a7xtup0JOe"
      },
      "execution_count": null,
      "outputs": []
    },
    {
      "cell_type": "markdown",
      "source": [
        "### XGBoost Model"
      ],
      "metadata": {
        "id": "3OJHHnBu0JOf"
      }
    },
    {
      "cell_type": "code",
      "source": [
        "scores = []\n",
        "\n",
        "for train_index, test_index in kf.split(data, y):\n",
        "\n",
        "    x_train, x_test = data.iloc[train_index, :], data.iloc[test_index, :]\n",
        "    y_train, y_test = y.iloc[train_index], y.iloc[test_index]\n",
        "\n",
        "    model_xgb = XGBRegressor(objective='reg:squarederror')\n",
        "\n",
        "    model_xgb.fit(x_train, y_train, eval_set=[(x_test, y_test)],\n",
        "                  eval_metric='rmse', early_stopping_rounds=50,\n",
        "                  verbose=0)\n",
        "\n",
        "    scores.append(model_xgb.best_score)\n",
        "    model_xgb.save_model(f'xgboost{len(scores)}.bin')\n",
        "\n",
        "print('XGBoost average RMSE:', np.mean(scores))\n",
        "for i, score in enumerate(scores):\n",
        "    print(f'Model {i} RMSE: {score}')"
      ],
      "metadata": {
        "execution": {
          "iopub.status.busy": "2021-11-29T13:29:49.442009Z",
          "iopub.execute_input": "2021-11-29T13:29:49.442675Z",
          "iopub.status.idle": "2021-11-29T13:30:18.085645Z",
          "shell.execute_reply.started": "2021-11-29T13:29:49.442636Z",
          "shell.execute_reply": "2021-11-29T13:30:18.084559Z"
        },
        "trusted": true,
        "id": "crPoQsIg0JOf"
      },
      "execution_count": null,
      "outputs": []
    },
    {
      "cell_type": "code",
      "source": [
        "# Display feature importance.\n",
        "importance = pd.DataFrame({\n",
        "    'features': data.columns,\n",
        "    'importance': model_xgb.feature_importances_\n",
        "})\n",
        "importance.sort_values(by='importance', inplace=True)\n",
        "\n",
        "plt.figure(figsize=(12, 16))\n",
        "plt.barh(importance['features'], importance['importance'])\n",
        "plt.title('XGBoost Feature Importance')\n",
        "plt.show()"
      ],
      "metadata": {
        "execution": {
          "iopub.status.busy": "2021-11-29T13:08:25.058861Z",
          "iopub.execute_input": "2021-11-29T13:08:25.059115Z",
          "iopub.status.idle": "2021-11-29T13:08:25.344616Z",
          "shell.execute_reply.started": "2021-11-29T13:08:25.059085Z",
          "shell.execute_reply": "2021-11-29T13:08:25.343562Z"
        },
        "trusted": true,
        "id": "1DPtaOhP0JOg"
      },
      "execution_count": null,
      "outputs": []
    },
    {
      "cell_type": "markdown",
      "source": [
        "### LGMB Model"
      ],
      "metadata": {
        "id": "_CwAqAhu0JOh"
      }
    },
    {
      "cell_type": "code",
      "source": [
        "scores = []\n",
        "\n",
        "for train_index, test_index in kf.split(data, y):\n",
        "\n",
        "    x_train, x_test = data.iloc[train_index, :], data.iloc[test_index, :]\n",
        "    y_train, y_test = y.iloc[train_index], y.iloc[test_index]\n",
        "\n",
        "    model_lgb = LGBMRegressor(objective='regression', metrics='rmse')\n",
        "\n",
        "    model_lgb.fit(x_train, y_train, eval_set=(x_test, y_test),\n",
        "                  eval_metric='rmse', early_stopping_rounds=50,\n",
        "                  categorical_feature=['building_type', 'object_type', 'month'],\n",
        "                  verbose=0)\n",
        "\n",
        "    scores.append(model_lgb.best_score_['valid_0']['rmse'])\n",
        "    model_lgb.booster_.save_model(f'lgbm{len(scores)}.txt',\n",
        "                                  num_iteration=model_lgb.best_iteration_)\n",
        "\n",
        "print('LGBM average RMSE:', np.mean(scores))\n",
        "for i, score in enumerate(scores):\n",
        "    print(f'Model {i} RMSE: {score}')"
      ],
      "metadata": {
        "execution": {
          "iopub.status.busy": "2021-11-29T13:08:25.345728Z",
          "iopub.execute_input": "2021-11-29T13:08:25.345928Z",
          "iopub.status.idle": "2021-11-29T13:08:35.410204Z",
          "shell.execute_reply.started": "2021-11-29T13:08:25.345903Z",
          "shell.execute_reply": "2021-11-29T13:08:35.409551Z"
        },
        "trusted": true,
        "id": "P7QP4MrD0JOj"
      },
      "execution_count": null,
      "outputs": []
    },
    {
      "cell_type": "code",
      "source": [
        "importance = pd.DataFrame({\n",
        "    'features': data.columns,\n",
        "    'importance': model_lgb.feature_importances_\n",
        "})\n",
        "importance.sort_values(by='importance', inplace=True)\n",
        "\n",
        "plt.figure(figsize=(12, 16))\n",
        "plt.barh(importance['features'], importance['importance'])\n",
        "plt.title('LGBM Feature Importance')\n",
        "plt.show()"
      ],
      "metadata": {
        "execution": {
          "iopub.status.busy": "2021-11-29T13:08:35.411601Z",
          "iopub.execute_input": "2021-11-29T13:08:35.412109Z",
          "iopub.status.idle": "2021-11-29T13:08:35.734312Z",
          "shell.execute_reply.started": "2021-11-29T13:08:35.412071Z",
          "shell.execute_reply": "2021-11-29T13:08:35.733367Z"
        },
        "trusted": true,
        "id": "0YJj8l2V0JOk"
      },
      "execution_count": null,
      "outputs": []
    },
    {
      "cell_type": "markdown",
      "source": [
        "### CatBoost Model"
      ],
      "metadata": {
        "id": "19rEE2ey0JOl"
      }
    },
    {
      "cell_type": "code",
      "source": [
        "scores = []\n",
        "\n",
        "for train_index, test_index in kf.split(data, y):\n",
        "\n",
        "    x_train, x_test = data.iloc[train_index, :], data.iloc[test_index, :]\n",
        "    y_train, y_test = y.iloc[train_index], y.iloc[test_index]\n",
        "\n",
        "    model_cb = CatBoostRegressor(eval_metric='RMSE',\n",
        "                                 cat_features=['building_type', 'object_type', 'month'])\n",
        "    model_cb.fit(x_train, y_train, eval_set=[(x_test, y_test)],\n",
        "                 early_stopping_rounds=20, use_best_model=True,\n",
        "                 verbose=0)\n",
        "\n",
        "    scores.append(model_cb.best_score_['validation']['RMSE'])\n",
        "    model_cb.save_model(f'catboost{len(scores)}.cbm')\n",
        "\n",
        "print('Average RMSE:', np.mean(scores))\n",
        "for i, score in enumerate(scores):\n",
        "    print(f'Model {i} RMSE: {score}')"
      ],
      "metadata": {
        "execution": {
          "iopub.status.busy": "2021-11-29T13:30:25.937666Z",
          "iopub.execute_input": "2021-11-29T13:30:25.938212Z",
          "iopub.status.idle": "2021-11-29T13:33:26.051787Z",
          "shell.execute_reply.started": "2021-11-29T13:30:25.938158Z",
          "shell.execute_reply": "2021-11-29T13:33:26.050832Z"
        },
        "trusted": true,
        "id": "k89zAuf-0JOq"
      },
      "execution_count": null,
      "outputs": []
    },
    {
      "cell_type": "code",
      "source": [
        "# Display feature importance.\n",
        "importance = pd.DataFrame({\n",
        "    'features': data.columns,\n",
        "    'importance': model_cb.feature_importances_\n",
        "})\n",
        "importance.sort_values(by='importance', inplace=True)\n",
        "\n",
        "plt.figure(figsize=(12, 16))\n",
        "plt.barh(importance['features'], importance['importance'])\n",
        "plt.title('CatBoost Feature Importance')\n",
        "plt.show()"
      ],
      "metadata": {
        "execution": {
          "iopub.status.busy": "2021-11-29T13:18:21.011879Z",
          "iopub.execute_input": "2021-11-29T13:18:21.013300Z",
          "iopub.status.idle": "2021-11-29T13:18:21.330162Z",
          "shell.execute_reply.started": "2021-11-29T13:18:21.013244Z",
          "shell.execute_reply": "2021-11-29T13:18:21.329081Z"
        },
        "trusted": true,
        "id": "cAwZkpEi0JOv"
      },
      "execution_count": null,
      "outputs": []
    },
    {
      "cell_type": "markdown",
      "source": [
        "## Conclusions\n",
        "Standard deviation of price in the selected subset of data representing housing market is about 5.6 mln rubles. Gradient boosting models RMSE is in the range between 1.7 and 1.9 mln rubles. There is still room for improvement taking into account that median price in the city is about 6 mln rubles. However without additional features describing condition, presence or absence of furniture and other improvements making these models significantly more accurate would be difficult."
      ],
      "metadata": {
        "id": "Ahcmf82U0JOx"
      }
    },
    {
      "cell_type": "code",
      "source": [],
      "metadata": {
        "id": "S9iS4YIs0JOy"
      },
      "execution_count": null,
      "outputs": []
    }
  ]
}